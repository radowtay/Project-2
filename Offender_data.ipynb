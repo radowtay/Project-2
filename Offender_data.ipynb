{
 "cells": [
  {
   "cell_type": "code",
   "execution_count": 1,
   "id": "a36af378",
   "metadata": {},
   "outputs": [],
   "source": [
    "import pandas as pd"
   ]
  },
  {
   "cell_type": "code",
   "execution_count": 2,
   "id": "baf297fd",
   "metadata": {},
   "outputs": [],
   "source": [
    "#create paths to address data and county code data from Sex Offender Registry\n",
    "county_codes_raw = \"Resources/Sex Offender Address Data/Counties.txt\"\n",
    "addresses_raw = \"Resources/Sex Offender Address Data/Address.txt\""
   ]
  },
  {
   "cell_type": "code",
   "execution_count": 3,
   "id": "1a6eba2e",
   "metadata": {},
   "outputs": [],
   "source": [
    "#create dataframes from raw files\n",
    "county_codes_df = pd.read_csv(county_codes_raw, sep='\\t')\n",
    "addresses_df = pd.read_csv(addresses_raw,sep='\\t',header=None)"
   ]
  },
  {
   "cell_type": "code",
   "execution_count": 4,
   "id": "d0295164",
   "metadata": {},
   "outputs": [],
   "source": [
    "#clean up column headers for easier usage\n",
    "county_codes_df = county_codes_df.rename(columns = {'000':'COUNTY_CODE','UNKNOWN':'COUNTY_NAME'})\n",
    "\n",
    "address_headers = ['Index','AddressId','IND_IDN','SNU_NBR','SNA_TXT','SUD_COD','CITY','STATE','ZIP_CODE','COUNTY_CODE','LAT','LON']\n",
    "addresses_df.columns = address_headers"
   ]
  },
  {
   "cell_type": "code",
   "execution_count": 5,
   "id": "d7312582",
   "metadata": {},
   "outputs": [
    {
     "data": {
      "text/html": [
       "<div>\n",
       "<style scoped>\n",
       "    .dataframe tbody tr th:only-of-type {\n",
       "        vertical-align: middle;\n",
       "    }\n",
       "\n",
       "    .dataframe tbody tr th {\n",
       "        vertical-align: top;\n",
       "    }\n",
       "\n",
       "    .dataframe thead th {\n",
       "        text-align: right;\n",
       "    }\n",
       "</style>\n",
       "<table border=\"1\" class=\"dataframe\">\n",
       "  <thead>\n",
       "    <tr style=\"text-align: right;\">\n",
       "      <th></th>\n",
       "      <th>COUNTY_CODE</th>\n",
       "      <th>AddressId</th>\n",
       "    </tr>\n",
       "  </thead>\n",
       "  <tbody>\n",
       "    <tr>\n",
       "      <th>0</th>\n",
       "      <td>101.0</td>\n",
       "      <td>5010757</td>\n",
       "    </tr>\n",
       "    <tr>\n",
       "      <th>1</th>\n",
       "      <td>15.0</td>\n",
       "      <td>6440914</td>\n",
       "    </tr>\n",
       "    <tr>\n",
       "      <th>2</th>\n",
       "      <td>0.0</td>\n",
       "      <td>5494214</td>\n",
       "    </tr>\n",
       "    <tr>\n",
       "      <th>3</th>\n",
       "      <td>101.0</td>\n",
       "      <td>457490</td>\n",
       "    </tr>\n",
       "    <tr>\n",
       "      <th>4</th>\n",
       "      <td>0.0</td>\n",
       "      <td>5342621</td>\n",
       "    </tr>\n",
       "  </tbody>\n",
       "</table>\n",
       "</div>"
      ],
      "text/plain": [
       "   COUNTY_CODE  AddressId\n",
       "0        101.0    5010757\n",
       "1         15.0    6440914\n",
       "2          0.0    5494214\n",
       "3        101.0     457490\n",
       "4          0.0    5342621"
      ]
     },
     "execution_count": 5,
     "metadata": {},
     "output_type": "execute_result"
    }
   ],
   "source": [
    "#remove unrelated data from the addresses\n",
    "cleaned_df = addresses_df.filter(['COUNTY_CODE','AddressId'])\n",
    "cleaned_df = cleaned_df.dropna()\n",
    "cleaned_df.head()"
   ]
  },
  {
   "cell_type": "code",
   "execution_count": 6,
   "id": "b03fa33c",
   "metadata": {},
   "outputs": [],
   "source": [
    "#Get counts of registered offenders by county code\n",
    "cleaned_df = cleaned_df.groupby('COUNTY_CODE').count()\n",
    "cleaned_df = cleaned_df.rename(columns={'AddressId':'Registered_Offender_Count'})\n",
    "cleaned_df = cleaned_df.reset_index()"
   ]
  },
  {
   "cell_type": "code",
   "execution_count": 7,
   "id": "26f27c4d",
   "metadata": {},
   "outputs": [
    {
     "data": {
      "text/html": [
       "<div>\n",
       "<style scoped>\n",
       "    .dataframe tbody tr th:only-of-type {\n",
       "        vertical-align: middle;\n",
       "    }\n",
       "\n",
       "    .dataframe tbody tr th {\n",
       "        vertical-align: top;\n",
       "    }\n",
       "\n",
       "    .dataframe thead th {\n",
       "        text-align: right;\n",
       "    }\n",
       "</style>\n",
       "<table border=\"1\" class=\"dataframe\">\n",
       "  <thead>\n",
       "    <tr style=\"text-align: right;\">\n",
       "      <th></th>\n",
       "      <th>COUNTY_CODE</th>\n",
       "      <th>COUNTY_NAME</th>\n",
       "      <th>Registered_Offender_Count</th>\n",
       "    </tr>\n",
       "  </thead>\n",
       "  <tbody>\n",
       "    <tr>\n",
       "      <th>0</th>\n",
       "      <td>1</td>\n",
       "      <td>ANDERSON</td>\n",
       "      <td>272</td>\n",
       "    </tr>\n",
       "    <tr>\n",
       "      <th>1</th>\n",
       "      <td>2</td>\n",
       "      <td>ANDREWS</td>\n",
       "      <td>75</td>\n",
       "    </tr>\n",
       "    <tr>\n",
       "      <th>2</th>\n",
       "      <td>3</td>\n",
       "      <td>ANGELINA</td>\n",
       "      <td>336</td>\n",
       "    </tr>\n",
       "    <tr>\n",
       "      <th>3</th>\n",
       "      <td>4</td>\n",
       "      <td>ARANSAS</td>\n",
       "      <td>104</td>\n",
       "    </tr>\n",
       "    <tr>\n",
       "      <th>4</th>\n",
       "      <td>5</td>\n",
       "      <td>ARCHER</td>\n",
       "      <td>14</td>\n",
       "    </tr>\n",
       "    <tr>\n",
       "      <th>...</th>\n",
       "      <td>...</td>\n",
       "      <td>...</td>\n",
       "      <td>...</td>\n",
       "    </tr>\n",
       "    <tr>\n",
       "      <th>246</th>\n",
       "      <td>250</td>\n",
       "      <td>WOOD</td>\n",
       "      <td>188</td>\n",
       "    </tr>\n",
       "    <tr>\n",
       "      <th>247</th>\n",
       "      <td>251</td>\n",
       "      <td>YOAKUM</td>\n",
       "      <td>18</td>\n",
       "    </tr>\n",
       "    <tr>\n",
       "      <th>248</th>\n",
       "      <td>252</td>\n",
       "      <td>YOUNG</td>\n",
       "      <td>69</td>\n",
       "    </tr>\n",
       "    <tr>\n",
       "      <th>249</th>\n",
       "      <td>253</td>\n",
       "      <td>ZAPATA</td>\n",
       "      <td>14</td>\n",
       "    </tr>\n",
       "    <tr>\n",
       "      <th>250</th>\n",
       "      <td>254</td>\n",
       "      <td>ZAVALA</td>\n",
       "      <td>38</td>\n",
       "    </tr>\n",
       "  </tbody>\n",
       "</table>\n",
       "<p>251 rows × 3 columns</p>\n",
       "</div>"
      ],
      "text/plain": [
       "     COUNTY_CODE COUNTY_NAME  Registered_Offender_Count\n",
       "0              1    ANDERSON                        272\n",
       "1              2     ANDREWS                         75\n",
       "2              3    ANGELINA                        336\n",
       "3              4     ARANSAS                        104\n",
       "4              5      ARCHER                         14\n",
       "..           ...         ...                        ...\n",
       "246          250        WOOD                        188\n",
       "247          251      YOAKUM                         18\n",
       "248          252       YOUNG                         69\n",
       "249          253      ZAPATA                         14\n",
       "250          254      ZAVALA                         38\n",
       "\n",
       "[251 rows x 3 columns]"
      ]
     },
     "execution_count": 7,
     "metadata": {},
     "output_type": "execute_result"
    }
   ],
   "source": [
    "#Map county names to county codes\n",
    "cleaned_df = county_codes_df.merge(cleaned_df, on='COUNTY_CODE')\n",
    "cleaned_df"
   ]
  },
  {
   "cell_type": "code",
   "execution_count": 8,
   "id": "07b57bf9",
   "metadata": {},
   "outputs": [],
   "source": [
    "cleaned_df.to_csv('Offender_totals_by_County.csv', index=False)"
   ]
  },
  {
   "cell_type": "code",
   "execution_count": null,
   "id": "f46d283f",
   "metadata": {},
   "outputs": [],
   "source": []
  }
 ],
 "metadata": {
  "kernelspec": {
   "display_name": "Python 3 (ipykernel)",
   "language": "python",
   "name": "python3"
  },
  "language_info": {
   "codemirror_mode": {
    "name": "ipython",
    "version": 3
   },
   "file_extension": ".py",
   "mimetype": "text/x-python",
   "name": "python",
   "nbconvert_exporter": "python",
   "pygments_lexer": "ipython3",
   "version": "3.9.7"
  }
 },
 "nbformat": 4,
 "nbformat_minor": 5
}
